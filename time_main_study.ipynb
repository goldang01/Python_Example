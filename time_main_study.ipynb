{
 "cells": [
  {
   "cell_type": "code",
   "execution_count": 8,
   "id": "2ff009cb",
   "metadata": {},
   "outputs": [],
   "source": [
    "# Dart 재무재표 수집"
   ]
  },
  {
   "cell_type": "code",
   "execution_count": null,
   "id": "48298e6c",
   "metadata": {},
   "outputs": [],
   "source": [
    "import os\n",
    "import time\n",
    "import pandas as pd"
   ]
  },
  {
   "cell_type": "code",
   "execution_count": 22,
   "id": "09c601db",
   "metadata": {},
   "outputs": [
    {
     "name": "stdout",
     "output_type": "stream",
     "text": [
      "20210101 20210331 11013\n",
      "20210101 20210331 11012\n",
      "20210101 20210331 11014\n",
      "20210101 20210331 11011\n",
      "20210401 20210615 11013\n",
      "20210401 20210615 11012\n",
      "20210401 20210615 11014\n",
      "20210401 20210615 11011\n"
     ]
    }
   ],
   "source": [
    "date_list_start = [\"20210101\", \"20210401\"]\n",
    "date_list_end = [\"20210331\", \"20210615\"]\n",
    "\n",
    "apikey = [\n",
    "    \"052b7f6184ff2b9576d64eedb735f904aacb28f4\", # 네이버 계정\n",
    "    \"609b5ce551ea756056d4cb656d90fdc3f589a4e1\" # google 계정\n",
    "]\n",
    "\n",
    "# 1분기보고서 : 11013\n",
    "# 반기보고서 : 11012\n",
    "# 3분기보고서 : 11014\n",
    "# 사업보고서 : 11011\n",
    "\n",
    "report_type = [\"11013\", \"11012\", \"11014\", \"11011\"]\n",
    "\n",
    "for j in range(2):\n",
    "    for i in report_type:\n",
    "        os.system(\"/usr/bin/python3 /home/ubuntu/python/Python_Example/dart_crawl.py\" + \" \" + date_list_start[j] + \" \" + date_list_end[j] + \" \" +  i + \" \" + apikey[j])"
   ]
  }
 ],
 "metadata": {
  "kernelspec": {
   "display_name": "Python 3",
   "language": "python",
   "name": "python3"
  },
  "language_info": {
   "codemirror_mode": {
    "name": "ipython",
    "version": 3
   },
   "file_extension": ".py",
   "mimetype": "text/x-python",
   "name": "python",
   "nbconvert_exporter": "python",
   "pygments_lexer": "ipython3",
   "version": "3.6.9"
  }
 },
 "nbformat": 4,
 "nbformat_minor": 5
}
