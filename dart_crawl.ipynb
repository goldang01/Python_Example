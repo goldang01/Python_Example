{
 "cells": [
  {
   "cell_type": "code",
   "execution_count": 2,
   "id": "f138c87e",
   "metadata": {},
   "outputs": [],
   "source": [
    "# OpenDartReader를 사용한 Dart 재무제표 수집\n",
    "import datetime\n",
    "import time\n",
    "import pandas as pd\n",
    "import numpy as np\n",
    "import OpenDartReader\n",
    "import os\n",
    "import sys"
   ]
  },
  {
   "cell_type": "code",
   "execution_count": null,
   "id": "837b2295",
   "metadata": {},
   "outputs": [],
   "source": [
    "argv_value_1 = sys.argv[1] # date start\n",
    "argv_value_2 = sys.argv[2] # date end\n",
    "argv_value_3 = sys.argv[3] # report type\n",
    "argv_value_4 = sys.argv[4] # api key"
   ]
  },
  {
   "cell_type": "code",
   "execution_count": 4,
   "id": "8694cb19",
   "metadata": {},
   "outputs": [],
   "source": [
    "# ==== 0. 객체 생성 ====\n",
    "# 객체 생성 (API KEY 지정) \n",
    "api_key = argv_value_4\n",
    "\n",
    "dart = OpenDartReader(api_key) "
   ]
  },
  {
   "cell_type": "code",
   "execution_count": 6,
   "id": "34ad7853",
   "metadata": {},
   "outputs": [],
   "source": [
    "report_list = dart.list(start=argv_value_1, end=argv_value_2, kind='A')\n",
    "corp_list = report_list['corp_name']"
   ]
  },
  {
   "cell_type": "code",
   "execution_count": null,
   "id": "7d6e050f",
   "metadata": {},
   "outputs": [],
   "source": [
    "# 파일명\n",
    "\n",
    "file_name = \"file_\" + argv_value_1 + \"_\" + argv_value_2 + \"_\" + argv_value_3 + \".csv\"\n",
    "time_log = \"log_\" + argv_value_1 + \"_\" + argv_value_2 + \"_\" + argv_value_3 + \".csv\""
   ]
  },
  {
   "cell_type": "code",
   "execution_count": null,
   "id": "189e89e5",
   "metadata": {},
   "outputs": [],
   "source": [
    "for i in corp_list:\n",
    "    # 분당 100개 제한 관련 함수\n",
    "    time.sleep(3)\n",
    "    \n",
    "    # log 에 찍을 시각\n",
    "    now = datetime.datetime.now()\n",
    "    \n",
    "    # 21년도 재무재표 수집\n",
    "    try:\n",
    "        df1 = dart.finstate(i, 2021, reprt_code=argv_value_3)\n",
    "    except Exception as e:\n",
    "        df_log = pd.DataFrame({\n",
    "            'TF': '회사명 에러',\n",
    "            '회사이름':i,\n",
    "            'time':[now]})\n",
    "    \n",
    "        df_log.to_csv(time_log, index=False, mode = \"a\", header=False)\n",
    "\n",
    "    if df1 is None:\n",
    "        # 데이터 존재 하지 않을 경우 로그    \n",
    "        df_log = pd.DataFrame({\n",
    "            'TF':\"존재하지 않음\",\n",
    "            '회사이름':i,\n",
    "            'time':[now]})\n",
    "    \n",
    "        df_log.to_csv(time_log, index=False, mode = \"a\", header=False)\n",
    "    else:\n",
    "        # 데이터가 존재할경우 csv에 저장\n",
    "        if not os.path.exists(file_name):\n",
    "            df1.to_csv(file_name, index=False, mode='w')\n",
    "        else:\n",
    "            df1.to_csv(file_name, index=False, mode='a', header=False)\n",
    "\n",
    "            df_log = pd.DataFrame({\n",
    "                'TF':\"성공\",\n",
    "                '회사이름':i,\n",
    "                'time':[now]})\n",
    "            df_log.to_csv(time_log, index=False, mode = \"a\", header=False)"
   ]
  }
 ],
 "metadata": {
  "kernelspec": {
   "display_name": "Python 3",
   "language": "python",
   "name": "python3"
  },
  "language_info": {
   "codemirror_mode": {
    "name": "ipython",
    "version": 3
   },
   "file_extension": ".py",
   "mimetype": "text/x-python",
   "name": "python",
   "nbconvert_exporter": "python",
   "pygments_lexer": "ipython3",
   "version": "3.6.9"
  }
 },
 "nbformat": 4,
 "nbformat_minor": 5
}
