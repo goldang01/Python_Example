{
 "cells": [
  {
   "cell_type": "markdown",
   "id": "5968f90a",
   "metadata": {},
   "source": [
    "# 미래를 예측하는 데이터 분석\n",
    "\n",
    "예측 분석이란 데이터를 분석하여 특정 결과를 미리 예측해보는 것이다.\n",
    "\n",
    "- 지도 학습과 비지도 학습의 개념을 이해한다.\n",
    "- 회귀 분석으로 예측을 수행한다.\n",
    "- 시계열 데이터의 트렌드를 예측한다.\n",
    "- 수학적 기법을 활용하여 평점을 예측한다.\n",
    "\n",
    "## 프로야구 선서의 다음 해 연봉 예측하기\n",
    "\n",
    "예측 분석의 가장 대표적인 방법인 회귀 분석을 살펴보자.우리가 나이, 몸무게, 키를 1번부터 4번까지의 사람을 알고 있다고 가정하자. 여기에서\n",
    "4번 사람은 나이와 몸무게는 알고있는 값이지만, 키는 모른다고 가정해보자. 이렇게 되면 1~3번의 사람의 데이터는 **학습 전용 데이터셋** 그리고 4번 사람의 데이터는 **테스트 전용 데이터셋** 이라고 한다. 그리고 이러한 학습 방식을 **지도 학습**이라고 한다. 지도 학습의 과정은 수험생의 공부 과정에 비유할 수 있다. 수험생은 모의고사를 정답과 함께 공부한 뒤, 이를 평가하는 실제 수능을 보기 때문이다.\n",
    "\n",
    "### Step1. 프로야구 연봉 데이터 살펴보기\n",
    "\n",
    "우선 데이터셋의 기본 정보를 살펴보자. 데이터의 기초 탐색결과는 다음과 같다. 프로야구 연봉 데이터셋은 총 152개이며, 22개 피처로 구성되어 있다. 이 22개의 피처는 선수가 가지고 있는 기록(승,패, 홈런 등의 수치)들에 대한 세부 정보를 나타낸다."
   ]
  },
  {
   "cell_type": "code",
   "execution_count": 1,
   "id": "ba6da91a",
   "metadata": {},
   "outputs": [],
   "source": [
    "# 프로야구 연봉 데이터셋의 기본 정보 구하기\n",
    "\n",
    "%matplotlib inline\n",
    "\n",
    "import pandas as pd\n",
    "import numpy as np\n",
    "import matplotlib.pyplot as plt\n",
    "\n",
    "# Data Source : https://www.statiz.co.kr/\n",
    "\n"
   ]
  },
  {
   "cell_type": "code",
   "execution_count": null,
   "id": "8cf57b1b",
   "metadata": {},
   "outputs": [],
   "source": []
  }
 ],
 "metadata": {
  "kernelspec": {
   "display_name": "Python 3",
   "language": "python",
   "name": "python3"
  },
  "language_info": {
   "codemirror_mode": {
    "name": "ipython",
    "version": 3
   },
   "file_extension": ".py",
   "mimetype": "text/x-python",
   "name": "python",
   "nbconvert_exporter": "python",
   "pygments_lexer": "ipython3",
   "version": "3.8.8"
  }
 },
 "nbformat": 4,
 "nbformat_minor": 5
}
