{
 "cells": [
  {
   "cell_type": "code",
   "execution_count": 1,
   "id": "44fd5020",
   "metadata": {},
   "outputs": [
    {
     "ename": "IndentationError",
     "evalue": "unexpected indent (<ipython-input-1-96e9b2f8fb7b>, line 3)",
     "output_type": "error",
     "traceback": [
      "\u001b[0;36m  File \u001b[0;32m\"<ipython-input-1-96e9b2f8fb7b>\"\u001b[0;36m, line \u001b[0;32m3\u001b[0m\n\u001b[0;31m    for x in range(1, line * 2, 2):\u001b[0m\n\u001b[0m    ^\u001b[0m\n\u001b[0;31mIndentationError\u001b[0m\u001b[0;31m:\u001b[0m unexpected indent\n"
     ]
    }
   ],
   "source": [
    "line = int(input(\"Tree 의 높이를 입력하세요(5~30) : \"))\n",
    "\n",
    "    for x in range(1, line * 2, 2):\n",
    "        print((\" \" * ( (line * 2 - 1 - x) // 2 )) + (\"*\" * x))\n",
    "\n",
    "    for y in range(1, 4):\n",
    "        print(\" \" * (line-2) + \"***\")"
   ]
  },
  {
   "cell_type": "code",
   "execution_count": 4,
   "id": "18e43cd7",
   "metadata": {},
   "outputs": [],
   "source": [
    "import pandas as pd\n",
    "import numpy as np"
   ]
  },
  {
   "cell_type": "code",
   "execution_count": 5,
   "id": "29a9185d",
   "metadata": {},
   "outputs": [
    {
     "ename": "IndentationError",
     "evalue": "unexpected indent (<ipython-input-5-96e9b2f8fb7b>, line 3)",
     "output_type": "error",
     "traceback": [
      "\u001b[0;36m  File \u001b[0;32m\"<ipython-input-5-96e9b2f8fb7b>\"\u001b[0;36m, line \u001b[0;32m3\u001b[0m\n\u001b[0;31m    for x in range(1, line * 2, 2):\u001b[0m\n\u001b[0m    ^\u001b[0m\n\u001b[0;31mIndentationError\u001b[0m\u001b[0;31m:\u001b[0m unexpected indent\n"
     ]
    }
   ],
   "source": [
    "line = int(input(\"Tree 의 높이를 입력하세요(5~30) : \"))\n",
    "\n",
    "    for x in range(1, line * 2, 2):\n",
    "        print((\" \" * ( (line * 2 - 1 - x) // 2 )) + (\"*\" * x))\n",
    "\n",
    "    for y in range(1, 4):\n",
    "        print(\" \" * (line-2) + \"***\")"
   ]
  },
  {
   "cell_type": "code",
   "execution_count": 36,
   "id": "ea89efb8",
   "metadata": {},
   "outputs": [
    {
     "name": "stdout",
     "output_type": "stream",
     "text": [
      "\n",
      "           *\n",
      "          ***\n",
      "         *****\n",
      "        *******\n",
      "       *********\n",
      "           |\n"
     ]
    }
   ],
   "source": [
    "print(\"\")\n",
    "\n",
    "for i in range(1,10,2):\n",
    "\n",
    "    print((\" \"*((12*2-1-i)//2))+(\"*\"*i));\n",
    "\n",
    "print(\" \"*10+(\" |\"))"
   ]
  },
  {
   "cell_type": "code",
   "execution_count": 39,
   "id": "0334759e",
   "metadata": {},
   "outputs": [],
   "source": [
    "import itertools"
   ]
  },
  {
   "cell_type": "code",
   "execution_count": 42,
   "id": "b3291775",
   "metadata": {},
   "outputs": [],
   "source": [
    "# 리스트 선언\n",
    "a = [[5,6,7,8,9],[1,2,3,4],[2,4,6,8]]"
   ]
  },
  {
   "cell_type": "code",
   "execution_count": 43,
   "id": "f439303e",
   "metadata": {},
   "outputs": [],
   "source": [
    "caselist = list(itertools.product(*a)) "
   ]
  },
  {
   "cell_type": "code",
   "execution_count": 86,
   "id": "f55a70c8",
   "metadata": {
    "scrolled": false
   },
   "outputs": [
    {
     "name": "stdout",
     "output_type": "stream",
     "text": [
      "(5, 1, 2)\n",
      "(5, 1, 4)\n",
      "(5, 1, 6)\n",
      "(5, 1, 8)\n",
      "(5, 2, 2)\n",
      "(5, 2, 4)\n",
      "(5, 2, 6)\n",
      "(5, 2, 8)\n",
      "(5, 3, 2)\n",
      "(5, 3, 4)\n",
      "(5, 3, 6)\n",
      "(5, 3, 8)\n",
      "(5, 4, 2)\n",
      "(5, 4, 4)\n",
      "(5, 4, 6)\n",
      "(5, 4, 8)\n",
      "(6, 1, 2)\n",
      "(6, 1, 4)\n",
      "(6, 1, 6)\n",
      "(6, 1, 8)\n",
      "(6, 2, 2)\n",
      "(6, 2, 4)\n",
      "(6, 2, 6)\n",
      "(6, 2, 8)\n",
      "(6, 3, 2)\n",
      "(6, 3, 4)\n",
      "(6, 3, 6)\n",
      "(6, 3, 8)\n",
      "(6, 4, 2)\n",
      "(6, 4, 4)\n",
      "(6, 4, 6)\n",
      "(6, 4, 8)\n",
      "(7, 1, 2)\n",
      "(7, 1, 4)\n",
      "(7, 1, 6)\n",
      "(7, 1, 8)\n",
      "(7, 2, 2)\n",
      "(7, 2, 4)\n",
      "(7, 2, 6)\n",
      "(7, 2, 8)\n",
      "(7, 3, 2)\n",
      "(7, 3, 4)\n",
      "(7, 3, 6)\n",
      "(7, 3, 8)\n",
      "(7, 4, 2)\n",
      "(7, 4, 4)\n",
      "(7, 4, 6)\n",
      "(7, 4, 8)\n",
      "(8, 1, 2)\n",
      "(8, 1, 4)\n",
      "(8, 1, 6)\n",
      "(8, 1, 8)\n",
      "(8, 2, 2)\n",
      "(8, 2, 4)\n",
      "(8, 2, 6)\n",
      "(8, 2, 8)\n",
      "(8, 3, 2)\n",
      "(8, 3, 4)\n",
      "(8, 3, 6)\n",
      "(8, 3, 8)\n",
      "(8, 4, 2)\n",
      "(8, 4, 4)\n",
      "(8, 4, 6)\n",
      "(8, 4, 8)\n",
      "(9, 1, 2)\n",
      "(9, 1, 4)\n",
      "(9, 1, 6)\n",
      "(9, 1, 8)\n",
      "(9, 2, 2)\n",
      "(9, 2, 4)\n",
      "(9, 2, 6)\n",
      "(9, 2, 8)\n",
      "(9, 3, 2)\n",
      "(9, 3, 4)\n",
      "(9, 3, 6)\n",
      "(9, 3, 8)\n",
      "(9, 4, 2)\n",
      "(9, 4, 4)\n",
      "(9, 4, 6)\n",
      "(9, 4, 8)\n"
     ]
    }
   ],
   "source": [
    "for i in caselist:\n",
    " \n",
    "    print(i)"
   ]
  },
  {
   "cell_type": "code",
   "execution_count": 87,
   "id": "7b428ef8",
   "metadata": {},
   "outputs": [
    {
     "data": {
      "text/plain": [
       "[(5, 1, 2),\n",
       " (5, 1, 4),\n",
       " (5, 1, 6),\n",
       " (5, 1, 8),\n",
       " (5, 2, 2),\n",
       " (5, 2, 4),\n",
       " (5, 2, 6),\n",
       " (5, 2, 8),\n",
       " (5, 3, 2),\n",
       " (5, 3, 4),\n",
       " (5, 3, 6),\n",
       " (5, 3, 8),\n",
       " (5, 4, 2),\n",
       " (5, 4, 4),\n",
       " (5, 4, 6),\n",
       " (5, 4, 8),\n",
       " (6, 1, 2),\n",
       " (6, 1, 4),\n",
       " (6, 1, 6),\n",
       " (6, 1, 8),\n",
       " (6, 2, 2),\n",
       " (6, 2, 4),\n",
       " (6, 2, 6),\n",
       " (6, 2, 8),\n",
       " (6, 3, 2),\n",
       " (6, 3, 4),\n",
       " (6, 3, 6),\n",
       " (6, 3, 8),\n",
       " (6, 4, 2),\n",
       " (6, 4, 4),\n",
       " (6, 4, 6),\n",
       " (6, 4, 8),\n",
       " (7, 1, 2),\n",
       " (7, 1, 4),\n",
       " (7, 1, 6),\n",
       " (7, 1, 8),\n",
       " (7, 2, 2),\n",
       " (7, 2, 4),\n",
       " (7, 2, 6),\n",
       " (7, 2, 8),\n",
       " (7, 3, 2),\n",
       " (7, 3, 4),\n",
       " (7, 3, 6),\n",
       " (7, 3, 8),\n",
       " (7, 4, 2),\n",
       " (7, 4, 4),\n",
       " (7, 4, 6),\n",
       " (7, 4, 8),\n",
       " (8, 1, 2),\n",
       " (8, 1, 4),\n",
       " (8, 1, 6),\n",
       " (8, 1, 8),\n",
       " (8, 2, 2),\n",
       " (8, 2, 4),\n",
       " (8, 2, 6),\n",
       " (8, 2, 8),\n",
       " (8, 3, 2),\n",
       " (8, 3, 4),\n",
       " (8, 3, 6),\n",
       " (8, 3, 8),\n",
       " (8, 4, 2),\n",
       " (8, 4, 4),\n",
       " (8, 4, 6),\n",
       " (8, 4, 8),\n",
       " (9, 1, 2),\n",
       " (9, 1, 4),\n",
       " (9, 1, 6),\n",
       " (9, 1, 8),\n",
       " (9, 2, 2),\n",
       " (9, 2, 4),\n",
       " (9, 2, 6),\n",
       " (9, 2, 8),\n",
       " (9, 3, 2),\n",
       " (9, 3, 4),\n",
       " (9, 3, 6),\n",
       " (9, 3, 8),\n",
       " (9, 4, 2),\n",
       " (9, 4, 4),\n",
       " (9, 4, 6),\n",
       " (9, 4, 8)]"
      ]
     },
     "execution_count": 87,
     "metadata": {},
     "output_type": "execute_result"
    }
   ],
   "source": [
    "from itertools import product \n",
    "\n",
    "\n",
    "a = [[5,6,7,8,9],[1,2,3,4],[2,4,6,8]]\n",
    "\n",
    "\n",
    "\n",
    "list(product(*a))"
   ]
  },
  {
   "cell_type": "code",
   "execution_count": 85,
   "id": "100c6b57",
   "metadata": {},
   "outputs": [
    {
     "name": "stdout",
     "output_type": "stream",
     "text": [
      "3\n"
     ]
    }
   ],
   "source": [
    "b = print(len(i))\n"
   ]
  },
  {
   "cell_type": "code",
   "execution_count": 75,
   "id": "3db63377",
   "metadata": {},
   "outputs": [
    {
     "ename": "NameError",
     "evalue": "name 'count' is not defined",
     "output_type": "error",
     "traceback": [
      "\u001b[0;31m---------------------------------------------------------------------------\u001b[0m",
      "\u001b[0;31mNameError\u001b[0m                                 Traceback (most recent call last)",
      "\u001b[0;32m<ipython-input-75-e66be5ccc9c5>\u001b[0m in \u001b[0;36m<module>\u001b[0;34m\u001b[0m\n\u001b[0;32m----> 1\u001b[0;31m \u001b[0mprint\u001b[0m\u001b[0;34m(\u001b[0m\u001b[0mcount\u001b[0m\u001b[0;34m)\u001b[0m\u001b[0;34m\u001b[0m\u001b[0;34m\u001b[0m\u001b[0m\n\u001b[0m",
      "\u001b[0;31mNameError\u001b[0m: name 'count' is not defined"
     ]
    }
   ],
   "source": [
    "print(count)"
   ]
  },
  {
   "cell_type": "code",
   "execution_count": 54,
   "id": "19a70703",
   "metadata": {},
   "outputs": [
    {
     "name": "stdout",
     "output_type": "stream",
     "text": [
      "3\n"
     ]
    }
   ],
   "source": [
    "print(len(i))"
   ]
  },
  {
   "cell_type": "code",
   "execution_count": 45,
   "id": "9238b19a",
   "metadata": {},
   "outputs": [
    {
     "name": "stdout",
     "output_type": "stream",
     "text": [
      "['ab12ff', 'ab12fd', 'ab34ff', 'ab34fd', 'cd12ff', 'cd12fd', 'cd34ff', 'cd34fd']\n"
     ]
    }
   ],
   "source": [
    "result = []\n",
    " \n",
    "def cal_caseprint(input, pre_c):\n",
    " \n",
    "    last = (len(input) == 1)\n",
    "    \n",
    "    n = len(input[0])\n",
    "    \n",
    "    for i in range(n):\n",
    "    \n",
    "        item = pre_c + input[0][i]\n",
    "        \n",
    "        if last:\n",
    "        \n",
    "            result.append(item)\n",
    "            \n",
    "        else:\n",
    "        \n",
    "            cal_caseprint(input[1:], item)\n",
    " \n",
    "a = [['ab','cd'],['12','34'],['ff','fd']]\n",
    " \n",
    "cal_caseprint(a,'')\n",
    " \n",
    "print(result)"
   ]
  },
  {
   "cell_type": "code",
   "execution_count": null,
   "id": "12bd2bfe",
   "metadata": {},
   "outputs": [],
   "source": []
  }
 ],
 "metadata": {
  "kernelspec": {
   "display_name": "Python 3",
   "language": "python",
   "name": "python3"
  },
  "language_info": {
   "codemirror_mode": {
    "name": "ipython",
    "version": 3
   },
   "file_extension": ".py",
   "mimetype": "text/x-python",
   "name": "python",
   "nbconvert_exporter": "python",
   "pygments_lexer": "ipython3",
   "version": "3.8.8"
  }
 },
 "nbformat": 4,
 "nbformat_minor": 5
}
