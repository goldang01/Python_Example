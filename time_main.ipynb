{
 "cells": [
  {
   "cell_type": "markdown",
   "id": "71e07834",
   "metadata": {},
   "source": [
    "# Dart 재무재표 수집\n",
    "\n",
    "\n",
    "<center>\n",
    "<img src=\"https://img1.daumcdn.net/thumb/R1280x0/?scode=mtistory2&fname=https%3A%2F%2Fblog.kakaocdn.net%2Fdn%2FwM9Ci%2Fbtq7sDdrXpS%2FbwNkV4jivSR15XVXjljIcK%2Fimg.png\" width=\"900\" height=\"900\"><br>\n",
    "</center>"
   ]
  },
  {
   "cell_type": "code",
   "execution_count": null,
   "id": "744be1e0",
   "metadata": {},
   "outputs": [],
   "source": [
    "import os\n",
    "import time\n",
    "import pandas as pd"
   ]
  },
  {
   "cell_type": "code",
   "execution_count": null,
   "id": "823a0167",
   "metadata": {},
   "outputs": [],
   "source": [
    "date_list_start = [\"20210101\", \"20210401\"]\n",
    "date_list_end = [\"20210331\", \"20210615\"]\n",
    "\n",
    "apikey = [\n",
    "    \"google api key\", # google 계정\n",
    "    \"naver api key\" # naver 계정\n",
    "]\n",
    "\n",
    "# 1분기보고서 : 11013\n",
    "# 반기보고서 : 11012\n",
    "# 3분기보고서 : 11014\n",
    "# 사업보고서 : 11011\n",
    "\n",
    "report_type = [\"11013\", \"11012\", \"11014\", \"11011\"]\n",
    "\n",
    "for j in range(2):\n",
    "    for i in report_type:\n",
    "        os.system(\"/usr/bin/python3 /home/ubuntu/python/Python_Example/dart_crawl.py\" + \" \" + date_list_start[j] + \" \" + date_list_end[j] + \" \" +  i + \" \" + apikey[j])"
   ]
  },
  {
   "cell_type": "code",
   "execution_count": 26,
   "id": "39fa436f",
   "metadata": {},
   "outputs": [
    {
     "data": {
      "text/plain": [
       "[0, 1]"
      ]
     },
     "execution_count": 26,
     "metadata": {},
     "output_type": "execute_result"
    }
   ],
   "source": [
    "list(range(2))"
   ]
  },
  {
   "cell_type": "code",
   "execution_count": null,
   "id": "a7936576",
   "metadata": {},
   "outputs": [],
   "source": []
  }
 ],
 "metadata": {
  "kernelspec": {
   "display_name": "Python 3",
   "language": "python",
   "name": "python3"
  },
  "language_info": {
   "codemirror_mode": {
    "name": "ipython",
    "version": 3
   },
   "file_extension": ".py",
   "mimetype": "text/x-python",
   "name": "python",
   "nbconvert_exporter": "python",
   "pygments_lexer": "ipython3",
   "version": "3.6.9"
  }
 },
 "nbformat": 4,
 "nbformat_minor": 5
}
