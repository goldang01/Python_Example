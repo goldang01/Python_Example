{
 "cells": [
  {
   "cell_type": "markdown",
   "id": "4c2e1ac7",
   "metadata": {},
   "source": [
    "# Python, Crontab 의 활용의 예 [data 수집]"
   ]
  },
  {
   "cell_type": "markdown",
   "id": "71e07834",
   "metadata": {},
   "source": [
    "# Dart 재무재표 수집\n",
    "\n",
    "\n",
    "<center>\n",
    "<img src=\"https://img1.daumcdn.net/thumb/R1280x0/?scode=mtistory2&fname=https%3A%2F%2Fblog.kakaocdn.net%2Fdn%2FwM9Ci%2Fbtq7sDdrXpS%2FbwNkV4jivSR15XVXjljIcK%2Fimg.png\" width=\"900\" height=\"900\"><br>\n",
    "</center>"
   ]
  },
  {
   "cell_type": "markdown",
   "id": "cd4dc400",
   "metadata": {},
   "source": [
    "#### 파이썬 안에서 또, 파이썬 파일을 만들어 이를 스크립트로 실행 하는 구조 \n",
    "\n",
    "- 이렇게 했을때의 장점으로는, 메모리에 과부하가 걸리는 현상을 사전에 막을 수 있다.\n"
   ]
  },
  {
   "cell_type": "markdown",
   "id": "dd8630db",
   "metadata": {},
   "source": [
    "## 1. main.py \n",
    "\n",
    "os.system()으로 커맨드에서 python을 실행 시킨다. 그 다음 for loop안에 각각의 python코드가 실행하는 방법이다."
   ]
  },
  {
   "cell_type": "code",
   "execution_count": null,
   "id": "744be1e0",
   "metadata": {},
   "outputs": [],
   "source": [
    "import os\n",
    "import time\n",
    "import pandas as pd"
   ]
  },
  {
   "cell_type": "code",
   "execution_count": null,
   "id": "823a0167",
   "metadata": {},
   "outputs": [],
   "source": [
    "date_list_start = [\"20210101\", \"20210401\"]\n",
    "date_list_end = [\"20210331\", \"20210615\"]\n",
    "\n",
    "apikey = [\n",
    "    \"google api key\", # google 계정\n",
    "    \"naver api key\" # naver 계정\n",
    "]\n",
    "\n",
    "# 1분기보고서 : 11013\n",
    "# 반기보고서 : 11012\n",
    "# 3분기보고서 : 11014\n",
    "# 사업보고서 : 11011\n",
    "\n",
    "report_type = [\"11013\", \"11012\", \"11014\", \"11011\"]\n",
    "\n",
    "for j in range(2):\n",
    "    for i in report_type:\n",
    "        os.system(\"/usr/bin/python3 /home/ubuntu/python/Python_Example/dart_crawl.py\" + \" \" + date_list_start[j] + \" \" + date_list_end[j] + \" \" +  i + \" \" + apikey[j])"
   ]
  },
  {
   "cell_type": "markdown",
   "id": "768c6f0c",
   "metadata": {},
   "source": [
    "위와 같이 코드를 구성할때 파이썬은 다음과 같은 커맨드 입력을 하여 python파일을 호출하게 된다. 여기서 dart_crawl.py 파일을 호출하는 코드인데 뒤에 date_list_start, date_list_end, apikey, report_type를  dart_crawl.py에 인자로 넘겨준다."
   ]
  },
  {
   "cell_type": "markdown",
   "id": "39fef6b2",
   "metadata": {},
   "source": [
    "## 2. func.py\n",
    "\n",
    "main.py에서 호출받아 실행하게 되는 dart_crawl.py는 main.py에서 변수를 받아 이곳에 적용하게 된다. 여기서는 date_list_start, date_list_end, apikey, report_type 변수를 main.py에서 받았으며, 이를 func.py에서 적용시켜주기 위해서 각각 sys.argv[1],[2],[3],[4]를 사용한다."
   ]
  },
  {
   "cell_type": "code",
   "execution_count": 1,
   "id": "05ce1ce5",
   "metadata": {},
   "outputs": [],
   "source": [
    "# OpenDartReader를 사용한 Dart 재무제표 수집\n",
    "import datetime\n",
    "import time\n",
    "import pandas as pd\n",
    "import numpy as np\n",
    "import OpenDartReader\n",
    "import os\n",
    "import sys"
   ]
  },
  {
   "cell_type": "code",
   "execution_count": null,
   "id": "b7d3ca74",
   "metadata": {},
   "outputs": [],
   "source": [
    "argv_value_1 = sys.argv[1] # date start\n",
    "argv_value_2 = sys.argv[2] # date end\n",
    "argv_value_3 = sys.argv[3] # report type\n",
    "argv_value_4 = sys.argv[4] # api key"
   ]
  },
  {
   "cell_type": "code",
   "execution_count": null,
   "id": "e8920bfe",
   "metadata": {},
   "outputs": [],
   "source": [
    "# ==== 0. 객체 생성 ====\n",
    "# 객체 생성 (API KEY 지정) \n",
    "api_key = argv_value_4\n",
    "\n",
    "dart = OpenDartReader(api_key) "
   ]
  },
  {
   "cell_type": "code",
   "execution_count": null,
   "id": "1babccc3",
   "metadata": {},
   "outputs": [],
   "source": [
    "report_list = dart.list(start=argv_value_1, end=argv_value_2, kind='A')\n",
    "corp_list = report_list['corp_name']"
   ]
  },
  {
   "cell_type": "code",
   "execution_count": null,
   "id": "724dfa0c",
   "metadata": {},
   "outputs": [],
   "source": [
    "# 파일명\n",
    "\n",
    "file_name = \"file_\" + argv_value_1 + \"_\" + argv_value_2 + \"_\" + argv_value_3 + \".csv\"\n",
    "time_log = \"log_\" + argv_value_1 + \"_\" + argv_value_2 + \"_\" + argv_value_3 + \".csv\""
   ]
  },
  {
   "cell_type": "markdown",
   "id": "354b7638",
   "metadata": {},
   "source": [
    "dart_crawl.py안에 main.py에서 받은 변수값에 대한 결과 값을 로그로 남겨보려 한다. datetime모듈을 사용였으며 to_csv()의 mode=’a’옵션을 사용하여 다음과 같이 csv를 누적으로 저장해서 눈으로 볼 수 있게 만들었다."
   ]
  },
  {
   "cell_type": "code",
   "execution_count": null,
   "id": "ddf61a08",
   "metadata": {},
   "outputs": [],
   "source": [
    "for i in corp_list:\n",
    "    # 분당 100개 제한 관련 함수\n",
    "    time.sleep(3)\n",
    "    \n",
    "    # log 에 찍을 시각\n",
    "    now = datetime.datetime.now()\n",
    "    \n",
    "    # 21년도 재무재표 수집\n",
    "    try:\n",
    "        df1 = dart.finstate(i, 2021, reprt_code=argv_value_3)\n",
    "    except Exception as e:\n",
    "        df_log = pd.DataFrame({\n",
    "            'TF': '회사명 에러',\n",
    "            '회사이름':i,\n",
    "            'time':[now]})\n",
    "    \n",
    "        df_log.to_csv(time_log, index=False, mode = \"a\", header=False)\n",
    "\n",
    "    if df1 is None:\n",
    "        # 데이터 존재 하지 않을 경우 로그    \n",
    "        df_log = pd.DataFrame({\n",
    "            'TF':\"존재하지 않음\",\n",
    "            '회사이름':i,\n",
    "            'time':[now]})\n",
    "    \n",
    "        df_log.to_csv(time_log, index=False, mode = \"a\", header=False)\n",
    "    else:\n",
    "        # 데이터가 존재할경우 csv에 저장\n",
    "        if not os.path.exists(file_name):\n",
    "            df1.to_csv(file_name, index=False, mode='w')\n",
    "        else:\n",
    "            df1.to_csv(file_name, index=False, mode='a', header=False)\n",
    "\n",
    "            df_log = pd.DataFrame({\n",
    "                'TF':\"성공\",\n",
    "                '회사이름':i,\n",
    "                'time':[now]})\n",
    "            df_log.to_csv(time_log, index=False, mode = \"a\", header=False)"
   ]
  },
  {
   "cell_type": "markdown",
   "id": "2c41f300",
   "metadata": {},
   "source": [
    "### vi 편집기 화면 (main.py, dart_crawl.py)\n",
    "\n",
    "\n",
    "<center>\n",
    "<img src=\"https://img1.daumcdn.net/thumb/R1280x0/?scode=mtistory2&fname=https%3A%2F%2Fblog.kakaocdn.net%2Fdn%2FtPHcz%2Fbtq7DUfC94b%2FLbMRkcgw6eKJ5rnpVd7BeK%2Fimg.png\" width=\"900\" height=\"900\"><br>\n",
    "</center>\n",
    "\n",
    "\n",
    "<center>\n",
    "<img src=\"https://img1.daumcdn.net/thumb/R1280x0/?scode=mtistory2&fname=https%3A%2F%2Fblog.kakaocdn.net%2Fdn%2FWIF7q%2Fbtq7KmnVVRa%2FGPS5nEqhofDqrQlKwbtuvk%2Fimg.png\" width=\"900\" height=\"900\"><br>\n",
    "</center>\n",
    "\n"
   ]
  },
  {
   "cell_type": "markdown",
   "id": "bbba4dae",
   "metadata": {},
   "source": [
    "## 결과"
   ]
  },
  {
   "cell_type": "markdown",
   "id": "6024254a",
   "metadata": {},
   "source": [
    "<center>\n",
    "<img src=\"https://img1.daumcdn.net/thumb/R1280x0/?scode=mtistory2&fname=https%3A%2F%2Fblog.kakaocdn.net%2Fdn%2Fdr2IXj%2Fbtq7Fg92PFo%2FQzo1ASjUWdGRl9NF09MVbK%2Fimg.png\" width=\"900\" height=\"900\"><br>\n",
    "</center>\n",
    "\n",
    "\n",
    "<center>\n",
    "<img src=\"https://img1.daumcdn.net/thumb/R1280x0/?scode=mtistory2&fname=https%3A%2F%2Fblog.kakaocdn.net%2Fdn%2Fcrnluv%2Fbtq7EernMtz%2FhSwVVdiOKE0Vl9l9QYvol1%2Fimg.png\" width=\"900\" height=\"900\"><br>\n",
    "</center>"
   ]
  },
  {
   "cell_type": "markdown",
   "id": "1e4d1066",
   "metadata": {},
   "source": [
    "- opendartreader API를 사용했고, 하루에 10000개 이상 받아 올 수 없어서, # 분당 100개 제한 관련 함수 time.sleep(3)를 사용했다. \n",
    "- Crontab 의 자동화의 편리함과 왜 사용하는지 알 수 있었다. 좀 더 공부하고 응용을 해서 세련되고 편리하게 자동화를 구축해 보자."
   ]
  },
  {
   "cell_type": "markdown",
   "id": "42a1a095",
   "metadata": {},
   "source": [
    "#### Reference\n",
    "\n",
    "- [명령어 인자 및 응용](https://unfinishedgod.netlify.app/2021/06/16/python-%EB%AA%85%EB%A0%B9%EC%96%B4-%EC%9D%B8%EC%9E%90-%EB%B0%8F-%EC%9D%91%EC%9A%A9/)"
   ]
  }
 ],
 "metadata": {
  "kernelspec": {
   "display_name": "Python 3",
   "language": "python",
   "name": "python3"
  },
  "language_info": {
   "codemirror_mode": {
    "name": "ipython",
    "version": 3
   },
   "file_extension": ".py",
   "mimetype": "text/x-python",
   "name": "python",
   "nbconvert_exporter": "python",
   "pygments_lexer": "ipython3",
   "version": "3.6.9"
  }
 },
 "nbformat": 4,
 "nbformat_minor": 5
}
