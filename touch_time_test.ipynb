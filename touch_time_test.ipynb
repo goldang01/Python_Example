{
 "cells": [
  {
   "cell_type": "code",
   "execution_count": 1,
   "id": "8a8d246b",
   "metadata": {},
   "outputs": [],
   "source": [
    "import datetime\n",
    "import pandas as pd\n",
    "now = datetime.datetime.now()\n",
    "df = pd.DataFrame({\n",
    "    \"time\":[now]\n",
    "})\n",
    "df.to_csv(\"time_test.csv\", mode = \"a\")"
   ]
  }
 ],
 "metadata": {
  "kernelspec": {
   "display_name": "Python 3",
   "language": "python",
   "name": "python3"
  },
  "language_info": {
   "codemirror_mode": {
    "name": "ipython",
    "version": 3
   },
   "file_extension": ".py",
   "mimetype": "text/x-python",
   "name": "python",
   "nbconvert_exporter": "python",
   "pygments_lexer": "ipython3",
   "version": "3.6.9"
  }
 },
 "nbformat": 4,
 "nbformat_minor": 5
}
